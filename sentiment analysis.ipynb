{
 "cells": [
  {
   "cell_type": "code",
   "execution_count": 2,
   "id": "b2edf503-f069-4c9d-acec-031bbf5ff91d",
   "metadata": {},
   "outputs": [
    {
     "name": "stdout",
     "output_type": "stream",
     "text": [
      "Collecting tweepyNote: you may need to restart the kernel to use updated packages.\n",
      "\n",
      "  Downloading tweepy-4.15.0-py3-none-any.whl.metadata (4.1 kB)\n",
      "Collecting oauthlib<4,>=3.2.0 (from tweepy)\n",
      "  Downloading oauthlib-3.2.2-py3-none-any.whl.metadata (7.5 kB)\n",
      "Requirement already satisfied: requests<3,>=2.27.0 in c:\\users\\dell\\anaconda3\\lib\\site-packages (from tweepy) (2.31.0)\n",
      "Collecting requests-oauthlib<3,>=1.2.0 (from tweepy)\n",
      "  Downloading requests_oauthlib-2.0.0-py2.py3-none-any.whl.metadata (11 kB)\n",
      "Requirement already satisfied: charset-normalizer<4,>=2 in c:\\users\\dell\\anaconda3\\lib\\site-packages (from requests<3,>=2.27.0->tweepy) (2.0.4)\n",
      "Requirement already satisfied: idna<4,>=2.5 in c:\\users\\dell\\anaconda3\\lib\\site-packages (from requests<3,>=2.27.0->tweepy) (3.4)\n",
      "Requirement already satisfied: urllib3<3,>=1.21.1 in c:\\users\\dell\\anaconda3\\lib\\site-packages (from requests<3,>=2.27.0->tweepy) (2.0.7)\n",
      "Requirement already satisfied: certifi>=2017.4.17 in c:\\users\\dell\\anaconda3\\lib\\site-packages (from requests<3,>=2.27.0->tweepy) (2024.2.2)\n",
      "Downloading tweepy-4.15.0-py3-none-any.whl (99 kB)\n",
      "   ---------------------------------------- 0.0/99.4 kB ? eta -:--:--\n",
      "   ---- ----------------------------------- 10.2/99.4 kB ? eta -:--:--\n",
      "   ---------------- ----------------------- 41.0/99.4 kB 487.6 kB/s eta 0:00:01\n",
      "   ---------------------------------------- 99.4/99.4 kB 810.4 kB/s eta 0:00:00\n",
      "Downloading oauthlib-3.2.2-py3-none-any.whl (151 kB)\n",
      "   ---------------------------------------- 0.0/151.7 kB ? eta -:--:--\n",
      "   ---------- ---------------------------- 41.0/151.7 kB 991.0 kB/s eta 0:00:01\n",
      "   ------------------------------------- -- 143.4/151.7 kB 1.7 MB/s eta 0:00:01\n",
      "   ---------------------------------------- 151.7/151.7 kB 1.3 MB/s eta 0:00:00\n",
      "Downloading requests_oauthlib-2.0.0-py2.py3-none-any.whl (24 kB)\n",
      "Installing collected packages: oauthlib, requests-oauthlib, tweepy\n",
      "Successfully installed oauthlib-3.2.2 requests-oauthlib-2.0.0 tweepy-4.15.0\n"
     ]
    }
   ],
   "source": [
    "pip install tweepy"
   ]
  },
  {
   "cell_type": "code",
   "execution_count": 3,
   "id": "172f886d-7208-42aa-9257-52bd39dba56a",
   "metadata": {},
   "outputs": [],
   "source": [
    "import tweepy\n",
    "from nltk.sentiment.vader import SentimentIntensityAnalyzer\n",
    "import matplotlib.pyplot as plt\n",
    "import pandas as pd\n",
    "import nltk"
   ]
  },
  {
   "cell_type": "code",
   "execution_count": 4,
   "id": "8c0d404b-e60d-4bad-b056-dba6d8e9497c",
   "metadata": {},
   "outputs": [],
   "source": [
    "import time"
   ]
  },
  {
   "cell_type": "code",
   "execution_count": 5,
   "id": "9c1cdc59-6b59-427e-a5e6-d5b125aa67eb",
   "metadata": {},
   "outputs": [
    {
     "name": "stderr",
     "output_type": "stream",
     "text": [
      "[nltk_data] Downloading package vader_lexicon to\n",
      "[nltk_data]     C:\\Users\\DELL\\AppData\\Roaming\\nltk_data...\n"
     ]
    },
    {
     "data": {
      "text/plain": [
       "True"
      ]
     },
     "execution_count": 5,
     "metadata": {},
     "output_type": "execute_result"
    }
   ],
   "source": [
    "nltk.download('vader_lexicon')"
   ]
  },
  {
   "cell_type": "code",
   "execution_count": 6,
   "id": "f5add373-1141-4c4d-9533-4476a2fd3747",
   "metadata": {},
   "outputs": [],
   "source": [
    "BEARER_TOKEN = 'https://api.twitter.com/2/tweets/search/recent?tweet.fields=context_annotations&max_results=100&query=camping(nature%20OR%20%22outdoor%20actvities%22)'"
   ]
  },
  {
   "cell_type": "code",
   "execution_count": 8,
   "id": "97b52a9e-b859-4346-a13f-d9e4a178ae6c",
   "metadata": {},
   "outputs": [],
   "source": [
    "def fetch_tweets(topic, count=10):\n",
    "    client = tweepy.client(bearer_token=BEARER_TOKEN)\n",
    "    try:\n",
    "        response = client.search_recent_tweets(query=topic, max_result=count, tweet_fields=[\"created_at\"])\n",
    "        tweets = [{\"text\": tweet.text, \"created_at\": tweet.created_at}  for tweet in reponse.data]\n",
    "        return tweets\n",
    "    except Exception as e:\n",
    "        print(f\"Error fetching tweets: {e}\")\n",
    "        return []"
   ]
  },
  {
   "cell_type": "code",
   "execution_count": 11,
   "id": "7ce4abee-5aae-467e-9fc3-c511be71b3e0",
   "metadata": {},
   "outputs": [],
   "source": [
    "def handle_rate_limits(client, query, max_results):\n",
    "    try:\n",
    "        response = client.search_recent_tweets(query=topic, max_results=max_results)\n",
    "        return response.data\n",
    "    except tweepy.errors.TooManyRequests as e:\n",
    "        reset_time = int(e.response.headers.get(\"x-rate-limit-reset\", time.time() +15 * 60))\n",
    "        wait_time = rest_time - int(time.time())\n",
    "        print(f\"Rate limit reached. Waiting (wait_time) seconds.\")\n",
    "        time.sleep(wait_time)\n",
    "        return handle_rate_limits(client, query, max_results)"
   ]
  },
  {
   "cell_type": "code",
   "execution_count": 14,
   "id": "bdd3ff12-76e0-4b9e-82ac-9ebf365a7329",
   "metadata": {},
   "outputs": [],
   "source": [
    "def fetch_paginated_tweets(client, query, max_results, max_pages=3):\n",
    "    tweets = []\n",
    "    next_token = None\n",
    "\n",
    "    for _ in range(max_pages):\n",
    "        response = clients.search_recent_tweets(query=query, max_results=max_results, next_token=next_token)\n",
    "        if response.data:\n",
    "            tweets.extend(response.data)\n",
    "        next_token = response.meta.get(\"next_token\")\n",
    "        if not next_token:\n",
    "            break\n",
    "    return tweets"
   ]
  },
  {
   "cell_type": "code",
   "execution_count": 15,
   "id": "54854049-801f-4c64-96ce-489ee51747de",
   "metadata": {},
   "outputs": [],
   "source": [
    "def analyze_sentiment(tweets):\n",
    "    sid = SentimentIntensityAnalyzer()\n",
    "    for tweet in tweets:\n",
    "        sentiment_score = sid.polarity_scores(tweet[\"text\"])[\"compound\"]\n",
    "        tweet[\"sentiment\"] = sentiment_score\n",
    "    return tweets    "
   ]
  },
  {
   "cell_type": "code",
   "execution_count": 17,
   "id": "813a512f-5591-4960-a582-440ed084a876",
   "metadata": {},
   "outputs": [],
   "source": [
    "def visualize_sentiment(tweets):\n",
    "    df = pd.DataFrame(tweets)\n",
    "    df[\"created_at\"] = pd.to_datetime(df[\"created_at\"])\n",
    "    df = df.set_index(\"created_at\").resample(\"H\").mean()\n",
    "    df[\"sentiment\"].plot(kind=\"line\", figsize=(10, 6), title=\"Sentiment Trend Over Time\", ylabel=\"Sentiment Score\")\n",
    "    plt.axhline(0, color='red', linestyle='--')\n",
    "    plt.show()"
   ]
  },
  {
   "cell_type": "code",
   "execution_count": 24,
   "id": "bfdd5a34-2c4b-4fb7-8f21-f4dfcdaf8756",
   "metadata": {},
   "outputs": [
    {
     "name": "stdout",
     "output_type": "stream",
     "text": [
      "Fetching tweets about 'narendra modi'...\n"
     ]
    },
    {
     "ename": "TypeError",
     "evalue": "'module' object is not callable",
     "output_type": "error",
     "traceback": [
      "\u001b[1;31m---------------------------------------------------------------------------\u001b[0m",
      "\u001b[1;31mTypeError\u001b[0m                                 Traceback (most recent call last)",
      "Cell \u001b[1;32mIn[24], line 5\u001b[0m\n\u001b[0;32m      2\u001b[0m topic \u001b[38;5;241m=\u001b[39m \u001b[38;5;124m\"\u001b[39m\u001b[38;5;124mnarendra modi\u001b[39m\u001b[38;5;124m\"\u001b[39m\n\u001b[0;32m      3\u001b[0m \u001b[38;5;28mprint\u001b[39m(\u001b[38;5;124mf\u001b[39m\u001b[38;5;124m\"\u001b[39m\u001b[38;5;124mFetching tweets about \u001b[39m\u001b[38;5;124m'\u001b[39m\u001b[38;5;132;01m{\u001b[39;00mtopic\u001b[38;5;132;01m}\u001b[39;00m\u001b[38;5;124m'\u001b[39m\u001b[38;5;124m...\u001b[39m\u001b[38;5;124m\"\u001b[39m)\n\u001b[1;32m----> 5\u001b[0m tweets \u001b[38;5;241m=\u001b[39m fetch_tweets(topic, count\u001b[38;5;241m=\u001b[39m\u001b[38;5;241m50\u001b[39m)\n\u001b[0;32m      6\u001b[0m \u001b[38;5;28;01mif\u001b[39;00m tweets:\n\u001b[0;32m      7\u001b[0m     tweets \u001b[38;5;241m=\u001b[39m analyze_sentiment(tweets)\n",
      "Cell \u001b[1;32mIn[8], line 2\u001b[0m, in \u001b[0;36mfetch_tweets\u001b[1;34m(topic, count)\u001b[0m\n\u001b[0;32m      1\u001b[0m \u001b[38;5;28;01mdef\u001b[39;00m \u001b[38;5;21mfetch_tweets\u001b[39m(topic, count\u001b[38;5;241m=\u001b[39m\u001b[38;5;241m10\u001b[39m):\n\u001b[1;32m----> 2\u001b[0m     client \u001b[38;5;241m=\u001b[39m tweepy\u001b[38;5;241m.\u001b[39mclient(bearer_token\u001b[38;5;241m=\u001b[39mBEARER_TOKEN)\n\u001b[0;32m      3\u001b[0m     \u001b[38;5;28;01mtry\u001b[39;00m:\n\u001b[0;32m      4\u001b[0m         response \u001b[38;5;241m=\u001b[39m client\u001b[38;5;241m.\u001b[39msearch_recent_tweets(query\u001b[38;5;241m=\u001b[39mtopic, max_result\u001b[38;5;241m=\u001b[39mcount, tweet_fields\u001b[38;5;241m=\u001b[39m[\u001b[38;5;124m\"\u001b[39m\u001b[38;5;124mcreated_at\u001b[39m\u001b[38;5;124m\"\u001b[39m])\n",
      "\u001b[1;31mTypeError\u001b[0m: 'module' object is not callable"
     ]
    }
   ],
   "source": [
    "if __name__==\"__main__\":\n",
    "    topic = \"narendra modi\"\n",
    "    print(f\"Fetching tweets about '{topic}'...\")\n",
    "\n",
    "    tweets = fetch_tweets(topic, count=50)\n",
    "    if tweets:\n",
    "        tweets = analyze_sentiment(tweets)\n",
    "        visualize_sentiment(tweets)\n",
    "    else:\n",
    "        print(\"No tweets fetched\")"
   ]
  },
  {
   "cell_type": "code",
   "execution_count": null,
   "id": "c7edc338-e182-4853-84d9-772ebab8567b",
   "metadata": {},
   "outputs": [],
   "source": []
  }
 ],
 "metadata": {
  "kernelspec": {
   "display_name": "Python 3 (ipykernel)",
   "language": "python",
   "name": "python3"
  },
  "language_info": {
   "codemirror_mode": {
    "name": "ipython",
    "version": 3
   },
   "file_extension": ".py",
   "mimetype": "text/x-python",
   "name": "python",
   "nbconvert_exporter": "python",
   "pygments_lexer": "ipython3",
   "version": "3.11.7"
  }
 },
 "nbformat": 4,
 "nbformat_minor": 5
}
